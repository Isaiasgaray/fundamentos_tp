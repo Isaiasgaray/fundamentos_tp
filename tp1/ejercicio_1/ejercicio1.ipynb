{
 "cells": [
  {
   "cell_type": "code",
   "execution_count": 1,
   "id": "8a3e1402-cc0a-452b-bb02-f7f7fef1fb64",
   "metadata": {},
   "outputs": [],
   "source": [
    "import pandas as pd\n",
    "import matplotlib.pyplot as plt"
   ]
  },
  {
   "cell_type": "code",
   "execution_count": 2,
   "id": "b4c47c1d-6e22-4322-b7bc-fe3cf4bc11ee",
   "metadata": {},
   "outputs": [],
   "source": [
    "data = pd.read_csv('../datasets/provicias_datos_2022.csv',\n",
    "                   delimiter=';',\n",
    "                   header=3)"
   ]
  },
  {
   "cell_type": "code",
   "execution_count": 3,
   "id": "98ed995e-fdc9-459b-b314-3b77130ee84f",
   "metadata": {},
   "outputs": [
    {
     "data": {
      "text/html": [
       "<div>\n",
       "<style scoped>\n",
       "    .dataframe tbody tr th:only-of-type {\n",
       "        vertical-align: middle;\n",
       "    }\n",
       "\n",
       "    .dataframe tbody tr th {\n",
       "        vertical-align: top;\n",
       "    }\n",
       "\n",
       "    .dataframe thead th {\n",
       "        text-align: right;\n",
       "    }\n",
       "</style>\n",
       "<table border=\"1\" class=\"dataframe\">\n",
       "  <thead>\n",
       "    <tr style=\"text-align: right;\">\n",
       "      <th></th>\n",
       "      <th>PROVINCIa</th>\n",
       "      <th>población (miles)</th>\n",
       "      <th>hogares (miles)</th>\n",
       "      <th>ingresos laborales (miles pesos)</th>\n",
       "      <th>tasa de empleo (%)</th>\n",
       "      <th>superficie (km2)</th>\n",
       "      <th>exportaciones (mill usd)</th>\n",
       "    </tr>\n",
       "  </thead>\n",
       "  <tbody>\n",
       "    <tr>\n",
       "      <th>0</th>\n",
       "      <td>Ciudad Autónoma de Buenos Aires</td>\n",
       "      <td>3.004</td>\n",
       "      <td>1.263</td>\n",
       "      <td>211.877.384</td>\n",
       "      <td>4,7</td>\n",
       "      <td>205,9</td>\n",
       "      <td>311,163</td>\n",
       "    </tr>\n",
       "    <tr>\n",
       "      <th>1</th>\n",
       "      <td>Buenos Aires</td>\n",
       "      <td>17.292</td>\n",
       "      <td>5.738</td>\n",
       "      <td>623.250.917</td>\n",
       "      <td>8,7</td>\n",
       "      <td>305.907,40</td>\n",
       "      <td>33024,657</td>\n",
       "    </tr>\n",
       "    <tr>\n",
       "      <th>2</th>\n",
       "      <td>Catamarca</td>\n",
       "      <td>336.000</td>\n",
       "      <td>102.000</td>\n",
       "      <td>8.460.986</td>\n",
       "      <td>7,3</td>\n",
       "      <td>101.486,10</td>\n",
       "      <td>201,03</td>\n",
       "    </tr>\n",
       "    <tr>\n",
       "      <th>3</th>\n",
       "      <td>Chaco</td>\n",
       "      <td>3.477</td>\n",
       "      <td>1.251</td>\n",
       "      <td>122.790.341</td>\n",
       "      <td>6,5</td>\n",
       "      <td>99.763,30</td>\n",
       "      <td>516,336</td>\n",
       "    </tr>\n",
       "    <tr>\n",
       "      <th>4</th>\n",
       "      <td>Chubut</td>\n",
       "      <td>967.000</td>\n",
       "      <td>287.000</td>\n",
       "      <td>24.733.558</td>\n",
       "      <td>5,3</td>\n",
       "      <td>224.302,30</td>\n",
       "      <td>2575,372</td>\n",
       "    </tr>\n",
       "  </tbody>\n",
       "</table>\n",
       "</div>"
      ],
      "text/plain": [
       "                         PROVINCIa  población (miles)  hogares (miles)  \\\n",
       "0  Ciudad Autónoma de Buenos Aires              3.004            1.263   \n",
       "1                     Buenos Aires             17.292            5.738   \n",
       "2                        Catamarca            336.000          102.000   \n",
       "3                            Chaco              3.477            1.251   \n",
       "4                           Chubut            967.000          287.000   \n",
       "\n",
       "  ingresos laborales (miles pesos) tasa de empleo (%) superficie (km2)  \\\n",
       "0                      211.877.384                4,7            205,9   \n",
       "1                      623.250.917                8,7       305.907,40   \n",
       "2                        8.460.986                7,3       101.486,10   \n",
       "3                      122.790.341                6,5        99.763,30   \n",
       "4                       24.733.558                5,3       224.302,30   \n",
       "\n",
       "  exportaciones (mill usd)  \n",
       "0                  311,163  \n",
       "1                33024,657  \n",
       "2                   201,03  \n",
       "3                  516,336  \n",
       "4                 2575,372  "
      ]
     },
     "execution_count": 3,
     "metadata": {},
     "output_type": "execute_result"
    }
   ],
   "source": [
    "data.head()"
   ]
  },
  {
   "attachments": {},
   "cell_type": "markdown",
   "id": "8e2925db",
   "metadata": {},
   "source": [
    "# Limpieza de datos"
   ]
  },
  {
   "cell_type": "code",
   "execution_count": 4,
   "id": "7f6c4076",
   "metadata": {},
   "outputs": [],
   "source": [
    "data.rename(\n",
    "    columns={\n",
    "        'PROVINCIa': 'provincia',\n",
    "        'población (miles)': 'poblacion',\n",
    "        'hogares (miles)': 'hogares',\n",
    "        'ingresos laborales (miles pesos)': 'ingresos_laborales',\n",
    "        'tasa de empleo (%)': 'tasa_empleo',\n",
    "        'superficie (km2)': 'superficie',\n",
    "        'exportaciones (mill usd)': 'exportaciones_usd'\n",
    "    },\n",
    "    inplace=True\n",
    ")"
   ]
  },
  {
   "cell_type": "code",
   "execution_count": 5,
   "id": "ad834b45",
   "metadata": {},
   "outputs": [],
   "source": [
    "data.poblacion = data.poblacion * 1000"
   ]
  },
  {
   "cell_type": "code",
   "execution_count": 6,
   "id": "e26222de",
   "metadata": {},
   "outputs": [],
   "source": [
    "data.hogares = data.hogares * 1000"
   ]
  },
  {
   "cell_type": "code",
   "execution_count": 7,
   "id": "b98105a5-90a0-4b0e-be85-74a4f1908512",
   "metadata": {},
   "outputs": [],
   "source": [
    "data.tasa_empleo = \\\n",
    "    data.tasa_empleo\\\n",
    "        .str.replace(',', '.')\\\n",
    "        .astype('float64')"
   ]
  },
  {
   "cell_type": "code",
   "execution_count": 8,
   "id": "84499e19",
   "metadata": {},
   "outputs": [],
   "source": [
    "data.superficie = \\\n",
    "    data.superficie\\\n",
    "        .str.replace('.', '', regex=False)\\\n",
    "        .str.replace(',', '.', regex=False)\\\n",
    "        .astype('float64')"
   ]
  },
  {
   "cell_type": "code",
   "execution_count": 9,
   "id": "35d299cb",
   "metadata": {},
   "outputs": [],
   "source": [
    "data.ingresos_laborales = \\\n",
    "    data.ingresos_laborales\\\n",
    "    .str.replace('.', '', regex=False)\\\n",
    "    .astype('float64')"
   ]
  },
  {
   "cell_type": "code",
   "execution_count": 10,
   "id": "ed4ce56c",
   "metadata": {},
   "outputs": [],
   "source": [
    "data.exportaciones_usd = \\\n",
    "    data.exportaciones_usd\\\n",
    "    .str.replace(',', '', regex=False)\\\n",
    "    .astype('float64')"
   ]
  },
  {
   "cell_type": "code",
   "execution_count": 21,
   "id": "9038c188",
   "metadata": {},
   "outputs": [
    {
     "name": "stdout",
     "output_type": "stream",
     "text": [
      "<class 'pandas.core.frame.DataFrame'>\n",
      "RangeIndex: 24 entries, 0 to 23\n",
      "Data columns (total 7 columns):\n",
      " #   Column              Non-Null Count  Dtype  \n",
      "---  ------              --------------  -----  \n",
      " 0   provincia           24 non-null     object \n",
      " 1   poblacion           23 non-null     float64\n",
      " 2   hogares             24 non-null     float64\n",
      " 3   ingresos_laborales  23 non-null     float64\n",
      " 4   tasa_empleo         24 non-null     float64\n",
      " 5   superficie          24 non-null     float64\n",
      " 6   exportaciones_usd   24 non-null     float64\n",
      "dtypes: float64(6), object(1)\n",
      "memory usage: 1.4+ KB\n"
     ]
    }
   ],
   "source": [
    "data.info()"
   ]
  }
 ],
 "metadata": {
  "kernelspec": {
   "display_name": "Python 3 (ipykernel)",
   "language": "python",
   "name": "python3"
  },
  "language_info": {
   "codemirror_mode": {
    "name": "ipython",
    "version": 3
   },
   "file_extension": ".py",
   "mimetype": "text/x-python",
   "name": "python",
   "nbconvert_exporter": "python",
   "pygments_lexer": "ipython3",
   "version": "3.10.6"
  }
 },
 "nbformat": 4,
 "nbformat_minor": 5
}
