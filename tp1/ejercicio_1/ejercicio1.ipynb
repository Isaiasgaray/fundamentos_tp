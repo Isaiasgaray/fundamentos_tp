{
 "cells": [
  {
   "cell_type": "code",
   "execution_count": 2,
   "id": "8a3e1402-cc0a-452b-bb02-f7f7fef1fb64",
   "metadata": {},
   "outputs": [],
   "source": [
    "import pandas as pd\n",
    "import matplotlib.pyplot as plt\n",
    "import numpy as np"
   ]
  },
  {
   "cell_type": "code",
   "execution_count": 3,
   "id": "b4c47c1d-6e22-4322-b7bc-fe3cf4bc11ee",
   "metadata": {},
   "outputs": [],
   "source": [
    "provincias = pd.read_csv('../datasets/provicias_datos_2022.csv',\n",
    "                   delimiter=';',\n",
    "                   header=3)"
   ]
  },
  {
   "cell_type": "code",
   "execution_count": 4,
   "id": "98ed995e-fdc9-459b-b314-3b77130ee84f",
   "metadata": {},
   "outputs": [
    {
     "data": {
      "text/html": [
       "<div>\n",
       "<style scoped>\n",
       "    .dataframe tbody tr th:only-of-type {\n",
       "        vertical-align: middle;\n",
       "    }\n",
       "\n",
       "    .dataframe tbody tr th {\n",
       "        vertical-align: top;\n",
       "    }\n",
       "\n",
       "    .dataframe thead th {\n",
       "        text-align: right;\n",
       "    }\n",
       "</style>\n",
       "<table border=\"1\" class=\"dataframe\">\n",
       "  <thead>\n",
       "    <tr style=\"text-align: right;\">\n",
       "      <th></th>\n",
       "      <th>PROVINCIa</th>\n",
       "      <th>población (miles)</th>\n",
       "      <th>hogares (miles)</th>\n",
       "      <th>ingresos laborales (miles pesos)</th>\n",
       "      <th>tasa de empleo (%)</th>\n",
       "      <th>superficie (km2)</th>\n",
       "      <th>exportaciones (mill usd)</th>\n",
       "    </tr>\n",
       "  </thead>\n",
       "  <tbody>\n",
       "    <tr>\n",
       "      <th>0</th>\n",
       "      <td>Ciudad Autónoma de Buenos Aires</td>\n",
       "      <td>3.004</td>\n",
       "      <td>1.263</td>\n",
       "      <td>211.877.384</td>\n",
       "      <td>4,7</td>\n",
       "      <td>205,9</td>\n",
       "      <td>311,163</td>\n",
       "    </tr>\n",
       "    <tr>\n",
       "      <th>1</th>\n",
       "      <td>Buenos Aires</td>\n",
       "      <td>17.292</td>\n",
       "      <td>5.738</td>\n",
       "      <td>623.250.917</td>\n",
       "      <td>8,7</td>\n",
       "      <td>305.907,40</td>\n",
       "      <td>33024,657</td>\n",
       "    </tr>\n",
       "    <tr>\n",
       "      <th>2</th>\n",
       "      <td>Catamarca</td>\n",
       "      <td>336.000</td>\n",
       "      <td>102.000</td>\n",
       "      <td>8.460.986</td>\n",
       "      <td>7,3</td>\n",
       "      <td>101.486,10</td>\n",
       "      <td>201,03</td>\n",
       "    </tr>\n",
       "    <tr>\n",
       "      <th>3</th>\n",
       "      <td>Chaco</td>\n",
       "      <td>3.477</td>\n",
       "      <td>1.251</td>\n",
       "      <td>122.790.341</td>\n",
       "      <td>6,5</td>\n",
       "      <td>99.763,30</td>\n",
       "      <td>516,336</td>\n",
       "    </tr>\n",
       "    <tr>\n",
       "      <th>4</th>\n",
       "      <td>Chubut</td>\n",
       "      <td>967.000</td>\n",
       "      <td>287.000</td>\n",
       "      <td>24.733.558</td>\n",
       "      <td>5,3</td>\n",
       "      <td>224.302,30</td>\n",
       "      <td>2575,372</td>\n",
       "    </tr>\n",
       "  </tbody>\n",
       "</table>\n",
       "</div>"
      ],
      "text/plain": [
       "                         PROVINCIa  población (miles)  hogares (miles)  \\\n",
       "0  Ciudad Autónoma de Buenos Aires              3.004            1.263   \n",
       "1                     Buenos Aires             17.292            5.738   \n",
       "2                        Catamarca            336.000          102.000   \n",
       "3                            Chaco              3.477            1.251   \n",
       "4                           Chubut            967.000          287.000   \n",
       "\n",
       "  ingresos laborales (miles pesos) tasa de empleo (%) superficie (km2)  \\\n",
       "0                      211.877.384                4,7            205,9   \n",
       "1                      623.250.917                8,7       305.907,40   \n",
       "2                        8.460.986                7,3       101.486,10   \n",
       "3                      122.790.341                6,5        99.763,30   \n",
       "4                       24.733.558                5,3       224.302,30   \n",
       "\n",
       "  exportaciones (mill usd)  \n",
       "0                  311,163  \n",
       "1                33024,657  \n",
       "2                   201,03  \n",
       "3                  516,336  \n",
       "4                 2575,372  "
      ]
     },
     "execution_count": 4,
     "metadata": {},
     "output_type": "execute_result"
    }
   ],
   "source": [
    "provincias.head()"
   ]
  },
  {
   "attachments": {},
   "cell_type": "markdown",
   "id": "8e2925db",
   "metadata": {},
   "source": [
    "# Limpieza de datos"
   ]
  },
  {
   "attachments": {},
   "cell_type": "markdown",
   "id": "a272c66f",
   "metadata": {},
   "source": [
    "Notamos que hay un error en el nombre del columna de tasa de empleo, en realidad se trata de la tasa de **desempleo**. Asumimos esto porque no tiene sentido que, por ejemplo, Buenos Aires tenga un $8.7\\%$ de empleo registrado."
   ]
  },
  {
   "cell_type": "code",
   "execution_count": 5,
   "id": "7f6c4076",
   "metadata": {},
   "outputs": [],
   "source": [
    "provincias.rename(\n",
    "    columns={\n",
    "        'PROVINCIa': 'provincia',\n",
    "        'población (miles)': 'poblacion_miles',\n",
    "        'hogares (miles)': 'hogares_miles',\n",
    "        'ingresos laborales (miles pesos)': 'ingresos_miles',\n",
    "        'tasa de empleo (%)': 'tasa_desempleo',\n",
    "        'superficie (km2)': 'superficie_km2',\n",
    "        'exportaciones (mill usd)': 'exportaciones_usd_millones'\n",
    "    },\n",
    "    inplace=True\n",
    ")"
   ]
  },
  {
   "attachments": {},
   "cell_type": "markdown",
   "id": "70ba1770",
   "metadata": {},
   "source": [
    "Multiplicamos por mil ciertas columnas porque en la carga se leyeron como números con decimales, por ejemplo en la primer entrada el campo `poblacion` es `3.004` cuando debería ser `3004`.\n",
    "\n",
    "Además una de las entradas tiene este campo vacío, por ahora lo asumimos como `0` para poder castear la columna y luego lo imputaremos."
   ]
  },
  {
   "cell_type": "code",
   "execution_count": 6,
   "id": "6511eef5",
   "metadata": {},
   "outputs": [],
   "source": [
    "provincias.poblacion_miles = \\\n",
    "    provincias.poblacion_miles\\\n",
    "        .apply(lambda x: x * 1000 if x < 100 else x)\\\n",
    "        .fillna(0).round().astype('int64')"
   ]
  },
  {
   "cell_type": "code",
   "execution_count": 7,
   "id": "437cccf4",
   "metadata": {},
   "outputs": [],
   "source": [
    "provincias.hogares_miles = \\\n",
    "    provincias.hogares_miles\\\n",
    "        .apply(lambda x: x * 1000 if x < 10 else x)\\\n",
    "        .round().astype('int64')"
   ]
  },
  {
   "attachments": {},
   "cell_type": "markdown",
   "id": "b87e8b4f",
   "metadata": {},
   "source": [
    "Una de las entradas no tiene valor en el campo `ingresos_miles`, primero la reemplazamos por `0` para poder castear la columna a tipo entero, después imputaremos ese valor faltante."
   ]
  },
  {
   "cell_type": "code",
   "execution_count": 8,
   "id": "35d299cb",
   "metadata": {},
   "outputs": [],
   "source": [
    "provincias.ingresos_miles = \\\n",
    "    provincias.ingresos_miles\\\n",
    "    .str.replace('.', '', regex=False)\\\n",
    "    .fillna(0)\\\n",
    "    .astype('int64')"
   ]
  },
  {
   "cell_type": "code",
   "execution_count": 9,
   "id": "b98105a5-90a0-4b0e-be85-74a4f1908512",
   "metadata": {},
   "outputs": [],
   "source": [
    "provincias.tasa_desempleo = \\\n",
    "    provincias.tasa_desempleo\\\n",
    "        .str.replace(',', '.', regex=False)\\\n",
    "        .astype('float64')"
   ]
  },
  {
   "attachments": {},
   "cell_type": "markdown",
   "id": "67ce1d9d",
   "metadata": {},
   "source": [
    "Se realizan los reemplazos necesarios en el formato del campo `superficie_km2` para realizar el cambio a tipo float. Se redondea a 4 cifras para no perder informacion y luego se mutiplica por mil para obtener el valor correcto."
   ]
  },
  {
   "cell_type": "code",
   "execution_count": 10,
   "id": "d7f0d6ef",
   "metadata": {},
   "outputs": [],
   "source": [
    "provincias.superficie_km2 = \\\n",
    "    provincias.superficie_km2\\\n",
    "        .apply(lambda x:\n",
    "            x.replace(',', '.')\n",
    "            if '.' not in x\n",
    "            else x.replace(',', '')\n",
    "            )\\\n",
    "        .astype('float64')\\\n",
    "        .round(4) * 1000"
   ]
  },
  {
   "attachments": {},
   "cell_type": "markdown",
   "id": "689c955f",
   "metadata": {},
   "source": [
    "Notamos que la superficie de Tucumán se cargó incorrectamente en la base de datos, por eso vamos a reemplazarlo por el valor obtenido de esta [fuente](https://www.argentina.gob.ar/tucuman)."
   ]
  },
  {
   "cell_type": "code",
   "execution_count": 11,
   "id": "8b5962fa",
   "metadata": {},
   "outputs": [],
   "source": [
    "provincias.loc[provincias.provincia == 'Tucumán',\n",
    "               'superficie_km2'] = 22524"
   ]
  },
  {
   "attachments": {},
   "cell_type": "markdown",
   "id": "6afd5d97",
   "metadata": {},
   "source": [
    "En el caso de las exportaciones decidimos redondearlo a dos decimales."
   ]
  },
  {
   "cell_type": "code",
   "execution_count": 12,
   "id": "9ab5ed8e",
   "metadata": {},
   "outputs": [],
   "source": [
    "provincias.exportaciones_usd_millones = \\\n",
    "    provincias.exportaciones_usd_millones\\\n",
    "    .str.replace(',', '.', regex=False)\\\n",
    "    .astype(float).round(2)"
   ]
  },
  {
   "attachments": {},
   "cell_type": "markdown",
   "id": "091dc540",
   "metadata": {},
   "source": [
    "Para imputar la población de San Luis decidimos hacer un promedio de las provincias de la región de Cuyo, es decir usaremos el promedio entre las poblaciones de La Rioja, San Juan y Mendoza."
   ]
  },
  {
   "cell_type": "code",
   "execution_count": 13,
   "id": "8cc128bd",
   "metadata": {},
   "outputs": [],
   "source": [
    "provincias_cuyo = ['La Rioja', 'San Juan', 'Mendoza']\n",
    "media_cuyo = provincias\\\n",
    "                [provincias.provincia.isin(provincias_cuyo)]\\\n",
    "                .poblacion_miles.mean().astype('int64')"
   ]
  },
  {
   "cell_type": "code",
   "execution_count": 14,
   "id": "50e45db8",
   "metadata": {},
   "outputs": [],
   "source": [
    "provincias.loc[provincias.provincia == 'San Luis', 'poblacion_miles'] = \\\n",
    "    media_cuyo"
   ]
  },
  {
   "attachments": {},
   "cell_type": "markdown",
   "id": "48536ac6",
   "metadata": {},
   "source": [
    "Para imputar el ingreso faltante de Río Negro vamos a hacer el promedio de los ingresos de las otras provincias de la región."
   ]
  },
  {
   "cell_type": "code",
   "execution_count": 15,
   "id": "d0f9fab7",
   "metadata": {},
   "outputs": [],
   "source": [
    "provincias_patagonia = ['Neuquén', 'Chubut',\n",
    "                        'Santa Cruz', 'Tierra del Fuego',\n",
    "                        'La Pampa']\n",
    "\n",
    "media_patagonia = provincias\\\n",
    "                    [provincias.provincia.isin(provincias_patagonia)]\\\n",
    "                    .ingresos_miles.mean().astype('int64')"
   ]
  },
  {
   "cell_type": "code",
   "execution_count": 16,
   "id": "46612387",
   "metadata": {},
   "outputs": [],
   "source": [
    "provincias.loc[provincias.provincia == 'Río Negro', 'ingresos_miles'] = \\\n",
    "    media_patagonia"
   ]
  },
  {
   "cell_type": "code",
   "execution_count": 17,
   "id": "52087b28",
   "metadata": {},
   "outputs": [],
   "source": [
    "provincias_patagonia.remove('Tierra del Fuego')\n",
    "provincias_patagonia.append('Río Negro')"
   ]
  },
  {
   "attachments": {},
   "cell_type": "markdown",
   "id": "cc91dee3",
   "metadata": {},
   "source": [
    "Imputamos la tasa de desempleo de Tierra del Fuego con el promedio de la misma variable de las otras provincias de la patagonia."
   ]
  },
  {
   "cell_type": "code",
   "execution_count": 18,
   "id": "dc6fdfb7",
   "metadata": {},
   "outputs": [],
   "source": [
    "provincias.loc[provincias.provincia == 'Tierra del Fuego', 'tasa_desempleo'] = \\\n",
    "    provincias\\\n",
    "        [provincias.provincia.isin(provincias_patagonia)]\\\n",
    "        .tasa_desempleo.mean()\n"
   ]
  },
  {
   "attachments": {},
   "cell_type": "markdown",
   "id": "0a88e32d",
   "metadata": {},
   "source": [
    "# Exploración de datos"
   ]
  },
  {
   "cell_type": "code",
   "execution_count": 19,
   "id": "9038c188",
   "metadata": {},
   "outputs": [
    {
     "data": {
      "text/html": [
       "<div>\n",
       "<style scoped>\n",
       "    .dataframe tbody tr th:only-of-type {\n",
       "        vertical-align: middle;\n",
       "    }\n",
       "\n",
       "    .dataframe tbody tr th {\n",
       "        vertical-align: top;\n",
       "    }\n",
       "\n",
       "    .dataframe thead th {\n",
       "        text-align: right;\n",
       "    }\n",
       "</style>\n",
       "<table border=\"1\" class=\"dataframe\">\n",
       "  <thead>\n",
       "    <tr style=\"text-align: right;\">\n",
       "      <th></th>\n",
       "      <th>poblacion_miles</th>\n",
       "      <th>hogares_miles</th>\n",
       "      <th>ingresos_miles</th>\n",
       "      <th>tasa_desempleo</th>\n",
       "      <th>superficie_km2</th>\n",
       "      <th>exportaciones_usd_millones</th>\n",
       "    </tr>\n",
       "  </thead>\n",
       "  <tbody>\n",
       "    <tr>\n",
       "      <th>count</th>\n",
       "      <td>24.000000</td>\n",
       "      <td>24.000000</td>\n",
       "      <td>2.400000e+01</td>\n",
       "      <td>24.000000</td>\n",
       "      <td>24.000000</td>\n",
       "      <td>24.000000</td>\n",
       "    </tr>\n",
       "    <tr>\n",
       "      <th>mean</th>\n",
       "      <td>1779.958333</td>\n",
       "      <td>593.208333</td>\n",
       "      <td>6.459190e+07</td>\n",
       "      <td>5.094167</td>\n",
       "      <td>124483.525000</td>\n",
       "      <td>3626.671667</td>\n",
       "    </tr>\n",
       "    <tr>\n",
       "      <th>std</th>\n",
       "      <td>3428.814581</td>\n",
       "      <td>1152.599519</td>\n",
       "      <td>1.284715e+08</td>\n",
       "      <td>1.698116</td>\n",
       "      <td>72571.430981</td>\n",
       "      <td>7644.733695</td>\n",
       "    </tr>\n",
       "    <tr>\n",
       "      <th>min</th>\n",
       "      <td>172.000000</td>\n",
       "      <td>60.000000</td>\n",
       "      <td>8.460986e+06</td>\n",
       "      <td>1.700000</td>\n",
       "      <td>22524.000000</td>\n",
       "      <td>40.610000</td>\n",
       "    </tr>\n",
       "    <tr>\n",
       "      <th>25%</th>\n",
       "      <td>570.500000</td>\n",
       "      <td>148.000000</td>\n",
       "      <td>1.589288e+07</td>\n",
       "      <td>3.525000</td>\n",
       "      <td>77659.850000</td>\n",
       "      <td>424.422500</td>\n",
       "    </tr>\n",
       "    <tr>\n",
       "      <th>50%</th>\n",
       "      <td>818.500000</td>\n",
       "      <td>236.500000</td>\n",
       "      <td>2.388517e+07</td>\n",
       "      <td>5.200000</td>\n",
       "      <td>100624.700000</td>\n",
       "      <td>1058.325000</td>\n",
       "    </tr>\n",
       "    <tr>\n",
       "      <th>75%</th>\n",
       "      <td>1331.000000</td>\n",
       "      <td>410.000000</td>\n",
       "      <td>3.619542e+07</td>\n",
       "      <td>6.325000</td>\n",
       "      <td>157682.325000</td>\n",
       "      <td>1994.452500</td>\n",
       "    </tr>\n",
       "    <tr>\n",
       "      <th>max</th>\n",
       "      <td>17292.000000</td>\n",
       "      <td>5738.000000</td>\n",
       "      <td>6.232509e+08</td>\n",
       "      <td>8.700000</td>\n",
       "      <td>305907.400000</td>\n",
       "      <td>33024.660000</td>\n",
       "    </tr>\n",
       "  </tbody>\n",
       "</table>\n",
       "</div>"
      ],
      "text/plain": [
       "       poblacion_miles  hogares_miles  ingresos_miles  tasa_desempleo  \\\n",
       "count        24.000000      24.000000    2.400000e+01       24.000000   \n",
       "mean       1779.958333     593.208333    6.459190e+07        5.094167   \n",
       "std        3428.814581    1152.599519    1.284715e+08        1.698116   \n",
       "min         172.000000      60.000000    8.460986e+06        1.700000   \n",
       "25%         570.500000     148.000000    1.589288e+07        3.525000   \n",
       "50%         818.500000     236.500000    2.388517e+07        5.200000   \n",
       "75%        1331.000000     410.000000    3.619542e+07        6.325000   \n",
       "max       17292.000000    5738.000000    6.232509e+08        8.700000   \n",
       "\n",
       "       superficie_km2  exportaciones_usd_millones  \n",
       "count       24.000000                   24.000000  \n",
       "mean    124483.525000                 3626.671667  \n",
       "std      72571.430981                 7644.733695  \n",
       "min      22524.000000                   40.610000  \n",
       "25%      77659.850000                  424.422500  \n",
       "50%     100624.700000                 1058.325000  \n",
       "75%     157682.325000                 1994.452500  \n",
       "max     305907.400000                33024.660000  "
      ]
     },
     "execution_count": 19,
     "metadata": {},
     "output_type": "execute_result"
    }
   ],
   "source": [
    "provincias.describe()"
   ]
  },
  {
   "attachments": {},
   "cell_type": "markdown",
   "id": "56b55a26",
   "metadata": {},
   "source": [
    "Observamos que la poblacion de Chaco, comparada con Ciudad de Buenos Aires y Córdoba, tenía un valor muy alto. Verificamos en https://www.argentina.gob.ar y concluimos que los datos estaban intercambiados con Córdoba en los campos `poblacion_miles`, `hogares_miles` e `ingresos_miles` puesto que Ciudad de Buenos Aires y Córdoba deberían tener para un número de habitantes similar, una cantidad de hogares parecida y los ingresos de Córdoba deben ser mayores a los de Chaco. "
   ]
  },
  {
   "cell_type": "code",
   "execution_count": 20,
   "id": "da1e61da",
   "metadata": {},
   "outputs": [],
   "source": [
    "datos_chaco = provincias.iloc[3,0:4]\n",
    "datos_cordoba = provincias.iloc[5,0:4]\n",
    "\n",
    "datos_cordoba['provincia'] = 'Chaco'\n",
    "datos_chaco['provincia'] = 'Córdoba'\n",
    "\n",
    "provincias.iloc[3,0:4] = datos_cordoba\n",
    "provincias.iloc[5,0:4] = datos_chaco"
   ]
  },
  {
   "attachments": {},
   "cell_type": "markdown",
   "id": "a0406eb3",
   "metadata": {},
   "source": [
    "Analizando la densidad de población por provincia, nos resulta bajo el valor resultante de la provincia de Corrientes, por lo que verificamos si `poblacion_miles` y `superficie_km2` estaban correctamente cargadas en https://www.argentina.gob.ar/ y procedemos al cambio de valor de población de dicha provincia, expresado en miles."
   ]
  },
  {
   "cell_type": "code",
   "execution_count": 21,
   "id": "711be0c8",
   "metadata": {},
   "outputs": [],
   "source": [
    "provincias.loc[provincias.provincia == 'Corrientes','poblacion_miles'] = 1197"
   ]
  },
  {
   "attachments": {},
   "cell_type": "markdown",
   "id": "b86b914e",
   "metadata": {},
   "source": [
    "## Densidad poblacional por provincia"
   ]
  },
  {
   "cell_type": "code",
   "execution_count": 22,
   "id": "6f0a7575",
   "metadata": {},
   "outputs": [
    {
     "data": {
      "text/plain": [
       "provincia\n",
       "Tucumán                            62.29\n",
       "Buenos Aires                       56.53\n",
       "Misiones                           33.53\n",
       "Santa Fe                           24.85\n",
       "Córdoba                            21.11\n",
       "Entre Ríos                         15.97\n",
       "Ciudad Autónoma de Buenos Aires    14.59\n",
       "Corrientes                         13.43\n",
       "Jujuy                              13.07\n",
       "San Luis                           12.04\n",
       "Mendoza                            11.19\n",
       "Chaco                              10.46\n",
       "Salta                               8.41\n",
       "San Juan                            7.92\n",
       "Tierra del Fuego                    7.61\n",
       "Formosa                             6.74\n",
       "Neuquén                             6.48\n",
       "Santiago del Estero                 5.33\n",
       "Chubut                              4.31\n",
       "La Rioja                            3.89\n",
       "Río Negro                           3.40\n",
       "Catamarca                           3.31\n",
       "La Pampa                            2.21\n",
       "Santa Cruz                          1.55\n",
       "dtype: float64"
      ]
     },
     "execution_count": 22,
     "metadata": {},
     "output_type": "execute_result"
    }
   ],
   "source": [
    "provincias_densidad = \\\n",
    "    ((provincias.poblacion_miles * 1000) / provincias.superficie_km2).round(2)\n",
    "datos_densidad = \\\n",
    "    pd.Series(list(provincias_densidad), index=provincias['provincia'])\n",
    "datos_densidad.sort_values(ascending=False)"
   ]
  },
  {
   "attachments": {},
   "cell_type": "markdown",
   "id": "437722e7",
   "metadata": {},
   "source": [
    " Los complejos soja, maicero, petrolero-petroquímico, automotriz, triguero, carne y cuero bovinos, oro y plata, girasol, pesquero y cebada concentraron el $78.6\\%$ del total de las exportaciones argentinas [según el INDEC](https://www.indec.gob.ar/indec/web/Nivel4-Tema-3-2-79). Corroboramos los datos de nuestro dataset ya que nos intresa estudiar si hay relacion entre superficie, exportaciones y población."
   ]
  },
  {
   "attachments": {},
   "cell_type": "markdown",
   "id": "e4cff05b",
   "metadata": {},
   "source": [
    "## Exportaciones por provincia"
   ]
  },
  {
   "cell_type": "code",
   "execution_count": 24,
   "id": "62cd08ec",
   "metadata": {},
   "outputs": [
    {
     "data": {
      "image/png": "[encoded data removed]",
      "text/plain": [
       "<Figure size 1500x800 with 1 Axes>"
      ]
     },
     "metadata": {},
     "output_type": "display_data"
    }
   ],
   "source": [
    "provincias_ordenadas = provincias.sort_values('exportaciones_usd_millones')\n",
    "\n",
    "plt.figure(figsize=(15, 8))\n",
    "\n",
    "plt.scatter(\n",
    "    provincias_ordenadas.exportaciones_usd_millones, \n",
    "    provincias_ordenadas.provincia)\n",
    "plt.xlabel('Exportaciones (USD millones)')\n",
    "plt.ylabel('Provincia')\n",
    "plt.title('Exportaciones por provincia')\n",
    "\n",
    "plt.xscale('log')\n"
   ]
  },
  {
   "attachments": {},
   "cell_type": "markdown",
   "id": "51627667",
   "metadata": {},
   "source": [
    "Separamos las provincias regiones para analizarlas."
   ]
  },
  {
   "cell_type": "code",
   "execution_count": 25,
   "id": "a2173edb",
   "metadata": {},
   "outputs": [],
   "source": [
    "provincias_cuyo.append('San Luis')"
   ]
  },
  {
   "cell_type": "code",
   "execution_count": 26,
   "id": "a7c7f467",
   "metadata": {},
   "outputs": [],
   "source": [
    "provincias_patagonia.append('Tierra del Fuego') "
   ]
  },
  {
   "cell_type": "code",
   "execution_count": 27,
   "id": "6986dafb",
   "metadata": {},
   "outputs": [],
   "source": [
    "provincias_central = ['Córdoba', 'Ciudad Autónoma de Buenos Aires', 'Buenos Aires']"
   ]
  },
  {
   "cell_type": "code",
   "execution_count": 28,
   "id": "99a65781",
   "metadata": {},
   "outputs": [],
   "source": [
    "provincias_litoral = ['Santa Fe', 'Entre Ríos', 'Corrientes', \n",
    "                      'Misiones', 'Chaco', 'Formosa']"
   ]
  },
  {
   "cell_type": "code",
   "execution_count": 29,
   "id": "c8d05ba7",
   "metadata": {},
   "outputs": [],
   "source": [
    "provincias_norte = ['Jujuy', 'Salta', 'Tucumán', 'Santiago del Estero', 'Catamarca']"
   ]
  },
  {
   "cell_type": "code",
   "execution_count": 30,
   "id": "e01e2dd9",
   "metadata": {},
   "outputs": [
    {
     "data": {
      "text/html": [
       "<div>\n",
       "<style scoped>\n",
       "    .dataframe tbody tr th:only-of-type {\n",
       "        vertical-align: middle;\n",
       "    }\n",
       "\n",
       "    .dataframe tbody tr th {\n",
       "        vertical-align: top;\n",
       "    }\n",
       "\n",
       "    .dataframe thead th {\n",
       "        text-align: right;\n",
       "    }\n",
       "</style>\n",
       "<table border=\"1\" class=\"dataframe\">\n",
       "  <thead>\n",
       "    <tr style=\"text-align: right;\">\n",
       "      <th></th>\n",
       "      <th>provincia</th>\n",
       "      <th>poblacion_miles</th>\n",
       "      <th>hogares_miles</th>\n",
       "      <th>ingresos_miles</th>\n",
       "      <th>tasa_desempleo</th>\n",
       "      <th>superficie_km2</th>\n",
       "      <th>exportaciones_usd_millones</th>\n",
       "    </tr>\n",
       "  </thead>\n",
       "  <tbody>\n",
       "    <tr>\n",
       "      <th>3</th>\n",
       "      <td>Chaco</td>\n",
       "      <td>1044</td>\n",
       "      <td>321</td>\n",
       "      <td>22744468</td>\n",
       "      <td>6.5</td>\n",
       "      <td>99763.3</td>\n",
       "      <td>516.34</td>\n",
       "    </tr>\n",
       "    <tr>\n",
       "      <th>6</th>\n",
       "      <td>Corrientes</td>\n",
       "      <td>1197</td>\n",
       "      <td>205</td>\n",
       "      <td>30606036</td>\n",
       "      <td>3.6</td>\n",
       "      <td>89123.3</td>\n",
       "      <td>273.18</td>\n",
       "    </tr>\n",
       "    <tr>\n",
       "      <th>7</th>\n",
       "      <td>Entre Ríos</td>\n",
       "      <td>1252</td>\n",
       "      <td>431</td>\n",
       "      <td>40510249</td>\n",
       "      <td>6.4</td>\n",
       "      <td>78383.7</td>\n",
       "      <td>1911.90</td>\n",
       "    </tr>\n",
       "    <tr>\n",
       "      <th>8</th>\n",
       "      <td>Formosa</td>\n",
       "      <td>509</td>\n",
       "      <td>148</td>\n",
       "      <td>9586123</td>\n",
       "      <td>3.3</td>\n",
       "      <td>75488.3</td>\n",
       "      <td>40.61</td>\n",
       "    </tr>\n",
       "    <tr>\n",
       "      <th>13</th>\n",
       "      <td>Misiones</td>\n",
       "      <td>1003</td>\n",
       "      <td>342</td>\n",
       "      <td>29639104</td>\n",
       "      <td>3.3</td>\n",
       "      <td>29911.4</td>\n",
       "      <td>438.24</td>\n",
       "    </tr>\n",
       "    <tr>\n",
       "      <th>20</th>\n",
       "      <td>Santa Fe</td>\n",
       "      <td>3311</td>\n",
       "      <td>1215</td>\n",
       "      <td>135661847</td>\n",
       "      <td>5.4</td>\n",
       "      <td>133249.1</td>\n",
       "      <td>19162.52</td>\n",
       "    </tr>\n",
       "  </tbody>\n",
       "</table>\n",
       "</div>"
      ],
      "text/plain": [
       "     provincia  poblacion_miles  hogares_miles  ingresos_miles  \\\n",
       "3        Chaco             1044            321        22744468   \n",
       "6   Corrientes             1197            205        30606036   \n",
       "7   Entre Ríos             1252            431        40510249   \n",
       "8      Formosa              509            148         9586123   \n",
       "13    Misiones             1003            342        29639104   \n",
       "20    Santa Fe             3311           1215       135661847   \n",
       "\n",
       "    tasa_desempleo  superficie_km2  exportaciones_usd_millones  \n",
       "3              6.5         99763.3                      516.34  \n",
       "6              3.6         89123.3                      273.18  \n",
       "7              6.4         78383.7                     1911.90  \n",
       "8              3.3         75488.3                       40.61  \n",
       "13             3.3         29911.4                      438.24  \n",
       "20             5.4        133249.1                    19162.52  "
      ]
     },
     "execution_count": 30,
     "metadata": {},
     "output_type": "execute_result"
    }
   ],
   "source": [
    "provincias[provincias.provincia.isin(provincias_litoral)]"
   ]
  },
  {
   "cell_type": "code",
   "execution_count": 31,
   "id": "f2db5b6a",
   "metadata": {},
   "outputs": [],
   "source": [
    "norte = provincias[provincias.provincia.isin(provincias_norte)].set_index('provincia')\n",
    "litoral = provincias[provincias.provincia.isin(provincias_litoral)].set_index('provincia')\n",
    "cuyo = provincias[provincias.provincia.isin(provincias_cuyo)].set_index('provincia')\n",
    "central = provincias[provincias.provincia.isin(provincias_central)].set_index('provincia')\n",
    "patagonia = provincias[provincias.provincia.isin(provincias_patagonia)].set_index('provincia')"
   ]
  },
  {
   "cell_type": "code",
   "execution_count": 32,
   "id": "643b22cb",
   "metadata": {},
   "outputs": [],
   "source": [
    "regiones = [norte, litoral, cuyo, central, patagonia]"
   ]
  },
  {
   "cell_type": "code",
   "execution_count": 34,
   "id": "04d80bf6",
   "metadata": {},
   "outputs": [],
   "source": [
    "total_hogares = provincias.hogares_miles.sum()\n",
    "total_ingresos = provincias.ingresos_miles.sum()\n",
    "\n",
    "regiones_nombres = ['Norte', 'Litoral', 'Cuyo', 'Central', 'Patagonia']\n",
    "\n",
    "index_regiones = len(regiones)"
   ]
  },
  {
   "cell_type": "code",
   "execution_count": 35,
   "id": "432815bb",
   "metadata": {},
   "outputs": [],
   "source": [
    "proporcion_hogares = []\n",
    "proporcion_ingresos = []\n",
    "\n",
    "for region in regiones:\n",
    "        hogares_region = region.hogares_miles.sum() / total_hogares\n",
    "        ingresos_region = region.ingresos_miles.sum() / total_ingresos\n",
    "        proporcion_hogares.append(hogares_region)\n",
    "        proporcion_ingresos.append(ingresos_region)\n",
    "\n",
    "proporcion_desempleo = \\\n",
    "    [region.tasa_desempleo.sum().round(2) \n",
    "    for region in regiones]"
   ]
  },
  {
   "attachments": {},
   "cell_type": "markdown",
   "id": "77ebd79c",
   "metadata": {},
   "source": [
    "## Porporciones de hogares, ingresos y tasa de desempleo por provincia"
   ]
  },
  {
   "cell_type": "code",
   "execution_count": 36,
   "id": "8927e331",
   "metadata": {},
   "outputs": [
    {
     "data": {
      "text/plain": [
       "Text(0.02, 0.5, 'Porcentajes')"
      ]
     },
     "execution_count": 36,
     "metadata": {},
     "output_type": "execute_result"
    },
    {
     "data": {
      "image/png": "[encoded data removed]",
      "text/plain": [
       "<Figure size 1800x500 with 3 Axes>"
      ]
     },
     "metadata": {},
     "output_type": "display_data"
    }
   ],
   "source": [
    "figs, axs = plt.subplots(1, 3, figsize=(18, 5))\n",
    "\n",
    "axs[0].bar(regiones_nombres, proporcion_hogares)\n",
    "axs[0].set_title('Hogares')\n",
    "axs[0].set_yticks(np.linspace(0, 1, 5))\n",
    "axs[0].set_yticklabels(\n",
    "    [f'{val * 100:.0f}%' for val in axs[0].get_yticks()])\n",
    "\n",
    "\n",
    "\n",
    "axs[1].bar(regiones_nombres, proporcion_ingresos, color='firebrick')\n",
    "axs[1].set_title('Ingresos')\n",
    "axs[1].set_yticks(np.linspace(0, 1, 5))\n",
    "axs[1].set_yticklabels(\n",
    "    [f'{val * 100:.0f}%' for val in axs[1].get_yticks()])\n",
    "\n",
    "\n",
    "axs[2].bar(regiones_nombres, proporcion_desempleo, color='limegreen')\n",
    "axs[2].set_title('Tasa desempleo')\n",
    "axs[2].set_yticks(np.linspace(0, 35, 5))\n",
    "axs[2].set_yticklabels(\n",
    "    [f'{val:.0f}%' for val in axs[2].get_yticks()]\n",
    ")\n",
    "\n",
    "\n",
    "figs.supxlabel('Regiones')\n",
    "figs.supylabel('Porcentajes')\n"
   ]
  },
  {
   "attachments": {},
   "cell_type": "markdown",
   "id": "26f50f4a",
   "metadata": {},
   "source": [
    "## Exportación a Parquet"
   ]
  },
  {
   "cell_type": "code",
   "execution_count": 37,
   "id": "3f29466f",
   "metadata": {},
   "outputs": [],
   "source": [
    "provincias.to_parquet('provincias.parquet')"
   ]
  },
  {
   "attachments": {},
   "cell_type": "markdown",
   "id": "13904d93",
   "metadata": {},
   "source": [
    "# Conclusiones"
   ]
  }
 ],
 "metadata": {
  "kernelspec": {
   "display_name": "Python 3 (ipykernel)",
   "language": "python",
   "name": "python3"
  },
  "language_info": {
   "codemirror_mode": {
    "name": "ipython",
    "version": 3
   },
   "file_extension": ".py",
   "mimetype": "text/x-python",
   "name": "python",
   "nbconvert_exporter": "python",
   "pygments_lexer": "ipython3",
   "version": "3.10.6"
  }
 },
 "nbformat": 4,
 "nbformat_minor": 5
}
