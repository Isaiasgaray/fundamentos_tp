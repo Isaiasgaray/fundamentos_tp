{
 "cells": [
  {
   "cell_type": "code",
   "execution_count": 1,
   "id": "8a3e1402-cc0a-452b-bb02-f7f7fef1fb64",
   "metadata": {},
   "outputs": [],
   "source": [
    "import pandas as pd\n",
    "import matplotlib.pyplot as plt"
   ]
  },
  {
   "cell_type": "code",
   "execution_count": 2,
   "id": "b4c47c1d-6e22-4322-b7bc-fe3cf4bc11ee",
   "metadata": {},
   "outputs": [],
   "source": [
    "provincias = pd.read_csv('../datasets/provicias_datos_2022.csv',\n",
    "                   delimiter=';',\n",
    "                   header=3)"
   ]
  },
  {
   "cell_type": "code",
   "execution_count": 3,
   "id": "98ed995e-fdc9-459b-b314-3b77130ee84f",
   "metadata": {},
   "outputs": [
    {
     "data": {
      "text/html": [
       "<div>\n",
       "<style scoped>\n",
       "    .dataframe tbody tr th:only-of-type {\n",
       "        vertical-align: middle;\n",
       "    }\n",
       "\n",
       "    .dataframe tbody tr th {\n",
       "        vertical-align: top;\n",
       "    }\n",
       "\n",
       "    .dataframe thead th {\n",
       "        text-align: right;\n",
       "    }\n",
       "</style>\n",
       "<table border=\"1\" class=\"dataframe\">\n",
       "  <thead>\n",
       "    <tr style=\"text-align: right;\">\n",
       "      <th></th>\n",
       "      <th>PROVINCIa</th>\n",
       "      <th>población (miles)</th>\n",
       "      <th>hogares (miles)</th>\n",
       "      <th>ingresos laborales (miles pesos)</th>\n",
       "      <th>tasa de empleo (%)</th>\n",
       "      <th>superficie (km2)</th>\n",
       "      <th>exportaciones (mill usd)</th>\n",
       "    </tr>\n",
       "  </thead>\n",
       "  <tbody>\n",
       "    <tr>\n",
       "      <th>0</th>\n",
       "      <td>Ciudad Autónoma de Buenos Aires</td>\n",
       "      <td>3.004</td>\n",
       "      <td>1.263</td>\n",
       "      <td>211.877.384</td>\n",
       "      <td>4,7</td>\n",
       "      <td>205,9</td>\n",
       "      <td>311,163</td>\n",
       "    </tr>\n",
       "    <tr>\n",
       "      <th>1</th>\n",
       "      <td>Buenos Aires</td>\n",
       "      <td>17.292</td>\n",
       "      <td>5.738</td>\n",
       "      <td>623.250.917</td>\n",
       "      <td>8,7</td>\n",
       "      <td>305.907,40</td>\n",
       "      <td>33024,657</td>\n",
       "    </tr>\n",
       "    <tr>\n",
       "      <th>2</th>\n",
       "      <td>Catamarca</td>\n",
       "      <td>336.000</td>\n",
       "      <td>102.000</td>\n",
       "      <td>8.460.986</td>\n",
       "      <td>7,3</td>\n",
       "      <td>101.486,10</td>\n",
       "      <td>201,03</td>\n",
       "    </tr>\n",
       "    <tr>\n",
       "      <th>3</th>\n",
       "      <td>Chaco</td>\n",
       "      <td>3.477</td>\n",
       "      <td>1.251</td>\n",
       "      <td>122.790.341</td>\n",
       "      <td>6,5</td>\n",
       "      <td>99.763,30</td>\n",
       "      <td>516,336</td>\n",
       "    </tr>\n",
       "    <tr>\n",
       "      <th>4</th>\n",
       "      <td>Chubut</td>\n",
       "      <td>967.000</td>\n",
       "      <td>287.000</td>\n",
       "      <td>24.733.558</td>\n",
       "      <td>5,3</td>\n",
       "      <td>224.302,30</td>\n",
       "      <td>2575,372</td>\n",
       "    </tr>\n",
       "  </tbody>\n",
       "</table>\n",
       "</div>"
      ],
      "text/plain": [
       "                         PROVINCIa  población (miles)  hogares (miles)  \\\n",
       "0  Ciudad Autónoma de Buenos Aires              3.004            1.263   \n",
       "1                     Buenos Aires             17.292            5.738   \n",
       "2                        Catamarca            336.000          102.000   \n",
       "3                            Chaco              3.477            1.251   \n",
       "4                           Chubut            967.000          287.000   \n",
       "\n",
       "  ingresos laborales (miles pesos) tasa de empleo (%) superficie (km2)  \\\n",
       "0                      211.877.384                4,7            205,9   \n",
       "1                      623.250.917                8,7       305.907,40   \n",
       "2                        8.460.986                7,3       101.486,10   \n",
       "3                      122.790.341                6,5        99.763,30   \n",
       "4                       24.733.558                5,3       224.302,30   \n",
       "\n",
       "  exportaciones (mill usd)  \n",
       "0                  311,163  \n",
       "1                33024,657  \n",
       "2                   201,03  \n",
       "3                  516,336  \n",
       "4                 2575,372  "
      ]
     },
     "execution_count": 3,
     "metadata": {},
     "output_type": "execute_result"
    }
   ],
   "source": [
    "provincias.head()"
   ]
  },
  {
   "attachments": {},
   "cell_type": "markdown",
   "id": "8e2925db",
   "metadata": {},
   "source": [
    "# Limpieza de datos"
   ]
  },
  {
   "cell_type": "code",
   "execution_count": 4,
   "id": "7f6c4076",
   "metadata": {},
   "outputs": [],
   "source": [
    "provincias.rename(\n",
    "    columns={\n",
    "        'PROVINCIa': 'provincia',\n",
    "        'población (miles)': 'poblacion',\n",
    "        'hogares (miles)': 'hogares',\n",
    "        'ingresos laborales (miles pesos)': 'ingresos_laborales',\n",
    "        'tasa de empleo (%)': 'tasa_empleo',\n",
    "        'superficie (km2)': 'superficie',\n",
    "        'exportaciones (mill usd)': 'exportaciones_usd'\n",
    "    },\n",
    "    inplace=True\n",
    ")"
   ]
  },
  {
   "attachments": {},
   "cell_type": "markdown",
   "id": "70ba1770",
   "metadata": {},
   "source": [
    "Multiplicamos por mil ciertas columnas porque en la carga se leyeron como números con decimales, por ejemplo en la primer entrada el campo `poblacion` es `3.004` cuando debería ser `3004`.\n",
    "\n",
    "Además una de las entradas tiene este campo vacío, por ahora lo asumimos como `0` para poder castear la columna y luego lo imputaremos."
   ]
  },
  {
   "cell_type": "code",
   "execution_count": 5,
   "id": "ad834b45",
   "metadata": {},
   "outputs": [],
   "source": [
    "provincias.poblacion = provincias.poblacion * 1000\n",
    "provincias.poblacion.fillna(0, inplace=True)"
   ]
  },
  {
   "cell_type": "code",
   "execution_count": 6,
   "id": "e26222de",
   "metadata": {},
   "outputs": [],
   "source": [
    "provincias.hogares = provincias.hogares * 1000"
   ]
  },
  {
   "cell_type": "code",
   "execution_count": 7,
   "id": "c4e8f8b4",
   "metadata": {},
   "outputs": [],
   "source": [
    "provincias[provincias.columns[1:3]] = \\\n",
    "    provincias[provincias.columns[1:3]].astype('int64')"
   ]
  },
  {
   "attachments": {},
   "cell_type": "markdown",
   "id": "b87e8b4f",
   "metadata": {},
   "source": [
    "Una de las entradas no tiene valor en el campo `ingresos_laborales`, primero la reemplazamos por `0` para poder castear la columna a tipo entero, después imputaremos ese valor faltante."
   ]
  },
  {
   "cell_type": "code",
   "execution_count": 8,
   "id": "35d299cb",
   "metadata": {},
   "outputs": [],
   "source": [
    "provincias.ingresos_laborales = \\\n",
    "    provincias.ingresos_laborales\\\n",
    "    .str.replace('.', '', regex=False)\\\n",
    "    .fillna(0)\\\n",
    "    .astype('int64')"
   ]
  },
  {
   "cell_type": "code",
   "execution_count": 9,
   "id": "b98105a5-90a0-4b0e-be85-74a4f1908512",
   "metadata": {},
   "outputs": [],
   "source": [
    "provincias.tasa_empleo = \\\n",
    "    provincias.tasa_empleo\\\n",
    "        .str.replace(',', '.', regex=False)\\\n",
    "        .astype('float64')"
   ]
  },
  {
   "cell_type": "code",
   "execution_count": 10,
   "id": "84499e19",
   "metadata": {},
   "outputs": [],
   "source": [
    "provincias.superficie = \\\n",
    "    provincias.superficie\\\n",
    "        .str.replace('.', '', regex=False)\\\n",
    "        .str.replace(',', '.', regex=False)\\\n",
    "        .astype('float64')"
   ]
  },
  {
   "cell_type": "code",
   "execution_count": 11,
   "id": "ed4ce56c",
   "metadata": {},
   "outputs": [],
   "source": [
    "provincias.exportaciones_usd = \\\n",
    "    provincias.exportaciones_usd\\\n",
    "    .str.replace(',', '', regex=False)\\\n",
    "    .astype('int64')"
   ]
  },
  {
   "cell_type": "code",
   "execution_count": 12,
   "id": "7bfa76c4",
   "metadata": {},
   "outputs": [
    {
     "data": {
      "text/html": [
       "<div>\n",
       "<style scoped>\n",
       "    .dataframe tbody tr th:only-of-type {\n",
       "        vertical-align: middle;\n",
       "    }\n",
       "\n",
       "    .dataframe tbody tr th {\n",
       "        vertical-align: top;\n",
       "    }\n",
       "\n",
       "    .dataframe thead th {\n",
       "        text-align: right;\n",
       "    }\n",
       "</style>\n",
       "<table border=\"1\" class=\"dataframe\">\n",
       "  <thead>\n",
       "    <tr style=\"text-align: right;\">\n",
       "      <th></th>\n",
       "      <th>provincia</th>\n",
       "      <th>poblacion</th>\n",
       "      <th>hogares</th>\n",
       "      <th>ingresos_laborales</th>\n",
       "      <th>tasa_empleo</th>\n",
       "      <th>superficie</th>\n",
       "      <th>exportaciones_usd</th>\n",
       "    </tr>\n",
       "  </thead>\n",
       "  <tbody>\n",
       "    <tr>\n",
       "      <th>0</th>\n",
       "      <td>Ciudad Autónoma de Buenos Aires</td>\n",
       "      <td>3004</td>\n",
       "      <td>1263</td>\n",
       "      <td>211877384</td>\n",
       "      <td>4.7</td>\n",
       "      <td>205.9</td>\n",
       "      <td>311163</td>\n",
       "    </tr>\n",
       "    <tr>\n",
       "      <th>1</th>\n",
       "      <td>Buenos Aires</td>\n",
       "      <td>17292</td>\n",
       "      <td>5738</td>\n",
       "      <td>623250917</td>\n",
       "      <td>8.7</td>\n",
       "      <td>305907.4</td>\n",
       "      <td>33024657</td>\n",
       "    </tr>\n",
       "    <tr>\n",
       "      <th>2</th>\n",
       "      <td>Catamarca</td>\n",
       "      <td>336000</td>\n",
       "      <td>102000</td>\n",
       "      <td>8460986</td>\n",
       "      <td>7.3</td>\n",
       "      <td>101486.1</td>\n",
       "      <td>20103</td>\n",
       "    </tr>\n",
       "    <tr>\n",
       "      <th>3</th>\n",
       "      <td>Chaco</td>\n",
       "      <td>3477</td>\n",
       "      <td>1251</td>\n",
       "      <td>122790341</td>\n",
       "      <td>6.5</td>\n",
       "      <td>99763.3</td>\n",
       "      <td>516336</td>\n",
       "    </tr>\n",
       "    <tr>\n",
       "      <th>4</th>\n",
       "      <td>Chubut</td>\n",
       "      <td>967000</td>\n",
       "      <td>287000</td>\n",
       "      <td>24733558</td>\n",
       "      <td>5.3</td>\n",
       "      <td>224302.3</td>\n",
       "      <td>2575372</td>\n",
       "    </tr>\n",
       "  </tbody>\n",
       "</table>\n",
       "</div>"
      ],
      "text/plain": [
       "                         provincia  poblacion  hogares  ingresos_laborales  \\\n",
       "0  Ciudad Autónoma de Buenos Aires       3004     1263           211877384   \n",
       "1                     Buenos Aires      17292     5738           623250917   \n",
       "2                        Catamarca     336000   102000             8460986   \n",
       "3                            Chaco       3477     1251           122790341   \n",
       "4                           Chubut     967000   287000            24733558   \n",
       "\n",
       "   tasa_empleo  superficie  exportaciones_usd  \n",
       "0          4.7       205.9             311163  \n",
       "1          8.7    305907.4           33024657  \n",
       "2          7.3    101486.1              20103  \n",
       "3          6.5     99763.3             516336  \n",
       "4          5.3    224302.3            2575372  "
      ]
     },
     "execution_count": 12,
     "metadata": {},
     "output_type": "execute_result"
    }
   ],
   "source": [
    "provincias.head()"
   ]
  },
  {
   "attachments": {},
   "cell_type": "markdown",
   "id": "a903abe5",
   "metadata": {},
   "source": [
    "### **Preguntar como imputar los datos faltantes de la población e ingresos laborales, preguntar que hacer con el valor 110 de la tase de empleo**"
   ]
  },
  {
   "attachments": {},
   "cell_type": "markdown",
   "id": "0a88e32d",
   "metadata": {},
   "source": [
    "# Exploración de datos"
   ]
  },
  {
   "cell_type": "code",
   "execution_count": 13,
   "id": "9038c188",
   "metadata": {},
   "outputs": [
    {
     "name": "stdout",
     "output_type": "stream",
     "text": [
      "<class 'pandas.core.frame.DataFrame'>\n",
      "RangeIndex: 24 entries, 0 to 23\n",
      "Data columns (total 7 columns):\n",
      " #   Column              Non-Null Count  Dtype  \n",
      "---  ------              --------------  -----  \n",
      " 0   provincia           24 non-null     object \n",
      " 1   poblacion           24 non-null     int64  \n",
      " 2   hogares             24 non-null     int64  \n",
      " 3   ingresos_laborales  24 non-null     int64  \n",
      " 4   tasa_empleo         24 non-null     float64\n",
      " 5   superficie          24 non-null     float64\n",
      " 6   exportaciones_usd   24 non-null     int64  \n",
      "dtypes: float64(2), int64(4), object(1)\n",
      "memory usage: 1.4+ KB\n"
     ]
    }
   ],
   "source": [
    "provincias.info()"
   ]
  }
 ],
 "metadata": {
  "kernelspec": {
   "display_name": "Python 3 (ipykernel)",
   "language": "python",
   "name": "python3"
  },
  "language_info": {
   "codemirror_mode": {
    "name": "ipython",
    "version": 3
   },
   "file_extension": ".py",
   "mimetype": "text/x-python",
   "name": "python",
   "nbconvert_exporter": "python",
   "pygments_lexer": "ipython3",
   "version": "3.10.6"
  }
 },
 "nbformat": 4,
 "nbformat_minor": 5
}
