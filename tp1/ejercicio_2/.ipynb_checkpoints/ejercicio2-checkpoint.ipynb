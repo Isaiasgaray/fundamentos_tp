{
 "cells": [
  {
   "cell_type": "code",
   "execution_count": 1,
   "id": "8a3e1402-cc0a-452b-bb02-f7f7fef1fb64",
   "metadata": {},
   "outputs": [],
   "source": [
    "import pandas as pd\n",
    "import numpy as np\n",
    "import matplotlib.pyplot as plt\n",
    "import pyarrow as pa\n",
    "import pyarrow.parquet as pq"
   ]
  },
  {
   "cell_type": "code",
   "execution_count": 6,
   "id": "e18c5082-904d-48f7-a447-40f635c6dfa4",
   "metadata": {},
   "outputs": [],
   "source": [
    "cambio = pd.read_excel('../datasets/tc_turistas.xlsx',\n",
    "                       sheet_name=0)\n",
    "\n",
    "turista = pd.read_excel('../datasets/tc_turistas.xlsx',\n",
    "                        sheet_name=2)"
   ]
  }
 ],
 "metadata": {
  "kernelspec": {
   "display_name": "Python 3 (ipykernel)",
   "language": "python",
   "name": "python3"
  },
  "language_info": {
   "codemirror_mode": {
    "name": "ipython",
    "version": 3
   },
   "file_extension": ".py",
   "mimetype": "text/x-python",
   "name": "python",
   "nbconvert_exporter": "python",
   "pygments_lexer": "ipython3",
   "version": "3.10.6"
  }
 },
 "nbformat": 4,
 "nbformat_minor": 5
}
