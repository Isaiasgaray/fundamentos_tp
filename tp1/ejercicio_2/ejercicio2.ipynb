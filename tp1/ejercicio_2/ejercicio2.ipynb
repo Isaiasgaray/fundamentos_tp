{
 "cells": [
  {
   "cell_type": "code",
   "execution_count": 1,
   "id": "8a3e1402-cc0a-452b-bb02-f7f7fef1fb64",
   "metadata": {},
   "outputs": [],
   "source": [
    "import pandas as pd\n",
    "import numpy as np\n",
    "import matplotlib.pyplot as plt\n",
    "import pyarrow as pa\n",
    "import pyarrow.parquet as pq"
   ]
  },
  {
   "cell_type": "code",
   "execution_count": 5,
   "id": "1a2a95ad-4413-4a6b-b54e-2dd833ed9795",
   "metadata": {},
   "outputs": [],
   "source": [
    "cambio = pd.read_excel('../datasets/tc_turistas.xlsx',\n",
    "                       sheet_name=0)\n",
    "\n",
    "turista = pd.read_excel('../datasets/tc_turistas.xlsx',\n",
    "                        sheet_name=2)"
   ]
  },
  {
   "cell_type": "code",
   "execution_count": 10,
   "id": "df219393-ee21-4f6a-9b39-2c11478e57b6",
   "metadata": {},
   "outputs": [],
   "source": [
    "cambio['DOLAR Oficial'].fillna(method='ffill', inplace=True)\n",
    "cambio['DOLAR Blue'].fillna(method='ffill', inplace=True)"
   ]
  },
  {
   "cell_type": "code",
   "execution_count": 12,
   "id": "1c04ab8c-d987-4fac-9f1a-cf404d729088",
   "metadata": {},
   "outputs": [
    {
     "data": {
      "text/html": [
       "<div>\n",
       "<style scoped>\n",
       "    .dataframe tbody tr th:only-of-type {\n",
       "        vertical-align: middle;\n",
       "    }\n",
       "\n",
       "    .dataframe tbody tr th {\n",
       "        vertical-align: top;\n",
       "    }\n",
       "\n",
       "    .dataframe thead th {\n",
       "        text-align: right;\n",
       "    }\n",
       "</style>\n",
       "<table border=\"1\" class=\"dataframe\">\n",
       "  <thead>\n",
       "    <tr style=\"text-align: right;\">\n",
       "      <th></th>\n",
       "      <th>FECHA</th>\n",
       "      <th>DOLAR Oficial</th>\n",
       "      <th>DOLAR Blue</th>\n",
       "    </tr>\n",
       "  </thead>\n",
       "  <tbody>\n",
       "    <tr>\n",
       "      <th>0</th>\n",
       "      <td>2017-06-01</td>\n",
       "      <td>16.25</td>\n",
       "      <td>16.30</td>\n",
       "    </tr>\n",
       "    <tr>\n",
       "      <th>1</th>\n",
       "      <td>2017-06-02</td>\n",
       "      <td>16.20</td>\n",
       "      <td>16.32</td>\n",
       "    </tr>\n",
       "    <tr>\n",
       "      <th>2</th>\n",
       "      <td>2017-06-03</td>\n",
       "      <td>16.20</td>\n",
       "      <td>16.32</td>\n",
       "    </tr>\n",
       "    <tr>\n",
       "      <th>3</th>\n",
       "      <td>2017-06-04</td>\n",
       "      <td>16.20</td>\n",
       "      <td>16.32</td>\n",
       "    </tr>\n",
       "    <tr>\n",
       "      <th>4</th>\n",
       "      <td>2017-06-05</td>\n",
       "      <td>16.20</td>\n",
       "      <td>16.34</td>\n",
       "    </tr>\n",
       "    <tr>\n",
       "      <th>...</th>\n",
       "      <td>...</td>\n",
       "      <td>...</td>\n",
       "      <td>...</td>\n",
       "    </tr>\n",
       "    <tr>\n",
       "      <th>999</th>\n",
       "      <td>2020-02-25</td>\n",
       "      <td>63.50</td>\n",
       "      <td>78.80</td>\n",
       "    </tr>\n",
       "    <tr>\n",
       "      <th>1000</th>\n",
       "      <td>2020-02-26</td>\n",
       "      <td>63.75</td>\n",
       "      <td>78.70</td>\n",
       "    </tr>\n",
       "    <tr>\n",
       "      <th>1001</th>\n",
       "      <td>2020-02-27</td>\n",
       "      <td>63.75</td>\n",
       "      <td>78.50</td>\n",
       "    </tr>\n",
       "    <tr>\n",
       "      <th>1002</th>\n",
       "      <td>2020-02-28</td>\n",
       "      <td>64.00</td>\n",
       "      <td>78.50</td>\n",
       "    </tr>\n",
       "    <tr>\n",
       "      <th>1003</th>\n",
       "      <td>2020-02-29</td>\n",
       "      <td>64.00</td>\n",
       "      <td>78.50</td>\n",
       "    </tr>\n",
       "  </tbody>\n",
       "</table>\n",
       "<p>1004 rows × 3 columns</p>\n",
       "</div>"
      ],
      "text/plain": [
       "          FECHA  DOLAR Oficial  DOLAR Blue\n",
       "0    2017-06-01          16.25       16.30\n",
       "1    2017-06-02          16.20       16.32\n",
       "2    2017-06-03          16.20       16.32\n",
       "3    2017-06-04          16.20       16.32\n",
       "4    2017-06-05          16.20       16.34\n",
       "...         ...            ...         ...\n",
       "999  2020-02-25          63.50       78.80\n",
       "1000 2020-02-26          63.75       78.70\n",
       "1001 2020-02-27          63.75       78.50\n",
       "1002 2020-02-28          64.00       78.50\n",
       "1003 2020-02-29          64.00       78.50\n",
       "\n",
       "[1004 rows x 3 columns]"
      ]
     },
     "execution_count": 12,
     "metadata": {},
     "output_type": "execute_result"
    }
   ],
   "source": [
    "cambio"
   ]
  }
 ],
 "metadata": {
  "kernelspec": {
   "display_name": "Python 3 (ipykernel)",
   "language": "python",
   "name": "python3"
  },
  "language_info": {
   "codemirror_mode": {
    "name": "ipython",
    "version": 3
   },
   "file_extension": ".py",
   "mimetype": "text/x-python",
   "name": "python",
   "nbconvert_exporter": "python",
   "pygments_lexer": "ipython3",
   "version": "3.10.6"
  }
 },
 "nbformat": 4,
 "nbformat_minor": 5
}
