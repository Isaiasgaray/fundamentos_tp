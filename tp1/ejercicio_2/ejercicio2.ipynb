{
 "cells": [
  {
   "cell_type": "code",
   "execution_count": 1,
   "id": "8a3e1402-cc0a-452b-bb02-f7f7fef1fb64",
   "metadata": {},
   "outputs": [],
   "source": [
    "import pandas as pd\n",
    "import matplotlib.pyplot as plt"
   ]
  },
  {
   "cell_type": "code",
   "execution_count": 2,
   "id": "1a2a95ad-4413-4a6b-b54e-2dd833ed9795",
   "metadata": {},
   "outputs": [],
   "source": [
    "cambio = pd.read_excel('../datasets/tc_turistas.xlsx',\n",
    "                       sheet_name=0)\n",
    "\n",
    "turista = pd.read_excel('../datasets/tc_turistas.xlsx',\n",
    "                        sheet_name=2)"
   ]
  },
  {
   "attachments": {},
   "cell_type": "markdown",
   "id": "18c6870f",
   "metadata": {},
   "source": [
    "# Limpieza de datos"
   ]
  },
  {
   "attachments": {},
   "cell_type": "markdown",
   "id": "f5e2468f",
   "metadata": {},
   "source": [
    "## Cambio"
   ]
  },
  {
   "cell_type": "code",
   "execution_count": 3,
   "id": "4d08838f",
   "metadata": {},
   "outputs": [],
   "source": [
    "cambio.rename(\n",
    "    columns={\n",
    "        'FECHA': 'fecha',\n",
    "        'DOLAR Oficial': 'dolar_oficial',\n",
    "        'DOLAR Blue': 'dolar_blue'\n",
    "    },\n",
    "    inplace=True\n",
    ")"
   ]
  },
  {
   "cell_type": "code",
   "execution_count": 4,
   "id": "df219393-ee21-4f6a-9b39-2c11478e57b6",
   "metadata": {},
   "outputs": [],
   "source": [
    "cambio.dolar_oficial.fillna(method='ffill', inplace=True)\n",
    "cambio.dolar_blue.fillna(method='ffill', inplace=True)"
   ]
  },
  {
   "attachments": {},
   "cell_type": "markdown",
   "id": "e28f2791",
   "metadata": {},
   "source": [
    "## Turista"
   ]
  },
  {
   "cell_type": "code",
   "execution_count": 5,
   "id": "856cd57e",
   "metadata": {},
   "outputs": [],
   "source": [
    "turista.rename(\n",
    "    columns={col: col.lower() for col in turista.columns},\n",
    "    inplace=True\n",
    ")"
   ]
  },
  {
   "cell_type": "code",
   "execution_count": 7,
   "id": "26613b1c",
   "metadata": {},
   "outputs": [],
   "source": [
    "turista[turista.columns[3:]] =\\\n",
    "    turista[turista.columns[3:]].astype('int64')"
   ]
  },
  {
   "cell_type": "code",
   "execution_count": 8,
   "id": "dd72b4ed",
   "metadata": {},
   "outputs": [
    {
     "name": "stdout",
     "output_type": "stream",
     "text": [
      "<class 'pandas.core.frame.DataFrame'>\n",
      "RangeIndex: 99 entries, 0 to 98\n",
      "Data columns (total 8 columns):\n",
      " #   Column    Non-Null Count  Dtype \n",
      "---  ------    --------------  ----- \n",
      " 0   anio      99 non-null     int64 \n",
      " 1   mes       99 non-null     object\n",
      " 2   date      99 non-null     int64 \n",
      " 3   bolivia   99 non-null     int64 \n",
      " 4   brasil    99 non-null     int64 \n",
      " 5   chile     99 non-null     int64 \n",
      " 6   paraguay  99 non-null     int64 \n",
      " 7   uruguay   99 non-null     int64 \n",
      "dtypes: int64(7), object(1)\n",
      "memory usage: 6.3+ KB\n"
     ]
    }
   ],
   "source": [
    "turista.info()"
   ]
  },
  {
   "cell_type": "code",
   "execution_count": 9,
   "id": "46a18edb",
   "metadata": {},
   "outputs": [
    {
     "name": "stdout",
     "output_type": "stream",
     "text": [
      "<class 'pandas.core.frame.DataFrame'>\n",
      "RangeIndex: 1004 entries, 0 to 1003\n",
      "Data columns (total 3 columns):\n",
      " #   Column         Non-Null Count  Dtype         \n",
      "---  ------         --------------  -----         \n",
      " 0   fecha          1004 non-null   datetime64[ns]\n",
      " 1   dolar_oficial  1004 non-null   float64       \n",
      " 2   dolar_blue     1004 non-null   float64       \n",
      "dtypes: datetime64[ns](1), float64(2)\n",
      "memory usage: 23.7 KB\n"
     ]
    }
   ],
   "source": [
    "cambio.info()"
   ]
  }
 ],
 "metadata": {
  "kernelspec": {
   "display_name": "Python 3 (ipykernel)",
   "language": "python",
   "name": "python3"
  },
  "language_info": {
   "codemirror_mode": {
    "name": "ipython",
    "version": 3
   },
   "file_extension": ".py",
   "mimetype": "text/x-python",
   "name": "python",
   "nbconvert_exporter": "python",
   "pygments_lexer": "ipython3",
   "version": "3.10.6"
  }
 },
 "nbformat": 4,
 "nbformat_minor": 5
}
